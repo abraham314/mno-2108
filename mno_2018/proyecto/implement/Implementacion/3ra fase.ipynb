{
 "cells": [
  {
   "cell_type": "code",
   "execution_count": 1,
   "metadata": {
    "collapsed": true
   },
   "outputs": [],
   "source": [
    "import numpy as np"
   ]
  },
  {
   "cell_type": "code",
   "execution_count": 2,
   "metadata": {
    "collapsed": true
   },
   "outputs": [],
   "source": [
    "sigma = np.loadtxt('S_diag.txt')\n",
    "U = np.loadtxt('U_rows.txt')\n",
    "V = np.loadtxt('VT_cols.txt')"
   ]
  },
  {
   "cell_type": "markdown",
   "metadata": {
    "collapsed": false
   },
   "source": [
    "**Hacemos las predicciones con distintas k's y escogemos la de menor error con respecto a la matriz de prueba**"
   ]
  },
  {
   "cell_type": "code",
   "execution_count": 6,
   "metadata": {
    "collapsed": false
   },
   "outputs": [],
   "source": [
    "test_data_matrix=np.loadtxt('test_data_matrix.txt')"
   ]
  },
  {
   "cell_type": "code",
   "execution_count": 19,
   "metadata": {
    "collapsed": true
   },
   "outputs": [],
   "source": [
    "from sklearn.metrics import mean_squared_error\n",
    "from math import sqrt\n",
    "def rmse(prediction, ground_truth):\n",
    "    prediction = prediction[ground_truth.nonzero()].flatten() \n",
    "    ground_truth = ground_truth[ground_truth.nonzero()].flatten()\n",
    "    return sqrt(mean_squared_error(prediction, ground_truth))"
   ]
  },
  {
   "cell_type": "code",
   "execution_count": 34,
   "metadata": {
    "collapsed": false
   },
   "outputs": [
    {
     "name": "stdout",
     "output_type": "stream",
     "text": [
      "[ 490.  480.  470.  460.  450.  440.  430.  420.  410.  400.  390.  380.\n",
      "  370.  360.  350.  340.  330.  320.  310.  300.  290.  280.  270.  260.\n",
      "  250.  240.  230.  220.  210.  200.  190.  180.  170.  160.  150.  140.\n",
      "  130.  120.  110.  100.   90.   80.   70.   60.   50.   40.   30.   20.\n",
      "   10.] [ 3.61565665  3.61551233  3.61487703  3.61491751  3.6141398   3.61314276\n",
      "  3.6117752   3.61094615  3.61047053  3.60975334  3.6094707   3.60885459\n",
      "  3.60916425  3.60863378  3.60851209  3.60703111  3.60635956  3.60603373\n",
      "  3.60472023  3.60393477  3.60285543  3.6022686   3.60212849  3.60085126\n",
      "  3.59903612  3.59905214  3.60006686  3.59879376  3.59890892  3.59707748\n",
      "  3.59645314  3.5938931   3.59169492  3.58998386  3.58684807  3.5863386\n",
      "  3.58424966  3.58346911  3.58068764  3.57780429  3.57524507  3.57336837\n",
      "  3.57077337  3.56769066  3.56447665  3.56076626  3.55724786  3.55275606\n",
      "  3.54497402]\n"
     ]
    }
   ],
   "source": [
    "k=[] \n",
    "rms=[]\n",
    "for i in range(10,500, 10):\n",
    "    pred = np.matrix(U[:, :i]) * np.diag(sigma[:i]) * np.matrix(V[:i, :])\n",
    "    pred=pred.transpose()\n",
    "    a=rmse(np.array(pred), test_data_matrix)\n",
    "    k=np.append(i,k)\n",
    "    rms=np.append(a,rms)\n",
    "print(k,rms)"
   ]
  },
  {
   "cell_type": "code",
   "execution_count": 35,
   "metadata": {
    "collapsed": false
   },
   "outputs": [],
   "source": [
    "import matplotlib.pyplot as plt \n",
    "%matplotlib inline "
   ]
  },
  {
   "cell_type": "code",
   "execution_count": 36,
   "metadata": {
    "collapsed": false
   },
   "outputs": [
    {
     "data": {
      "text/plain": [
       "Text(0,0.5,'k factores')"
      ]
     },
     "execution_count": 36,
     "metadata": {},
     "output_type": "execute_result"
    },
    {
     "data": {
      "image/png": "[encoded data removed]",
      "text/plain": [
       "<matplotlib.figure.Figure at 0x7fd4d6434550>"
      ]
     },
     "metadata": {},
     "output_type": "display_data"
    }
   ],
   "source": [
    "plt.plot(k,rms)\n",
    "plt.title('ks vs. rmse')\n",
    "plt.xlabel('rmse')\n",
    "plt.ylabel('k factores')"
   ]
  },
  {
   "cell_type": "code",
   "execution_count": null,
   "metadata": {
    "collapsed": true
   },
   "outputs": [],
   "source": []
  },
  {
   "cell_type": "code",
   "execution_count": null,
   "metadata": {
    "collapsed": false
   },
   "outputs": [],
   "source": []
  },
  {
   "cell_type": "code",
   "execution_count": null,
   "metadata": {
    "collapsed": false
   },
   "outputs": [],
   "source": []
  },
  {
   "cell_type": "code",
   "execution_count": null,
   "metadata": {
    "collapsed": true
   },
   "outputs": [],
   "source": []
  }
 ],
 "metadata": {
  "kernelspec": {
   "display_name": "Python 3",
   "language": "python",
   "name": "python3"
  },
  "language_info": {
   "codemirror_mode": {
    "name": "ipython",
    "version": 3
   },
   "file_extension": ".py",
   "mimetype": "text/x-python",
   "name": "python",
   "nbconvert_exporter": "python",
   "pygments_lexer": "ipython3",
   "version": "3.6.0"
  }
 },
 "nbformat": 4,
 "nbformat_minor": 2
}
